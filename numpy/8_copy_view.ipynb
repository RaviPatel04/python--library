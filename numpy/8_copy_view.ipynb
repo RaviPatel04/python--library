{
 "cells": [
  {
   "cell_type": "code",
   "execution_count": 1,
   "id": "a2bfce64-c110-4e84-ba7e-2ba57c5d27ea",
   "metadata": {},
   "outputs": [
    {
     "name": "stdout",
     "output_type": "stream",
     "text": [
      "[1 0 9 2 3 8]\n",
      "[1 0 9 2 3 8]\n",
      "after change\n",
      "[1 0 6 2 3 8]\n",
      "[1 0 9 2 3 8]\n"
     ]
    }
   ],
   "source": [
    "import numpy as np\n",
    "# copy\n",
    "arr = np.array([1,0,9,2,3,8])\n",
    "arrcopy = np.copy(arr)\n",
    "print(arr)\n",
    "print(arrcopy) #if we change orignal array then copyarray not change\n",
    "\n",
    "arr[2] = 6\n",
    "print(\"after change\")\n",
    "print(arr)\n",
    "print(arrcopy)"
   ]
  },
  {
   "cell_type": "code",
   "execution_count": 2,
   "id": "28329bee-077c-43c1-b8e9-39852865e891",
   "metadata": {},
   "outputs": [
    {
     "name": "stdout",
     "output_type": "stream",
     "text": [
      "[1 0 9 2 3 8]\n",
      "[1 0 9 2 3 8]\n",
      "after change\n",
      "[1 0 6 2 3 8]\n",
      "[1 0 6 2 3 8]\n"
     ]
    }
   ],
   "source": [
    "# view\n",
    "arr = np.array([1,0,9,2,3,8])\n",
    "arrview = arr.view()\n",
    "print(arr)\n",
    "print(arrview) #if we change orignal array viewarray change\n",
    "\n",
    "arr[2] = 6\n",
    "print(\"after change\")\n",
    "print(arr)\n",
    "print(arrview)"
   ]
  }
 ],
 "metadata": {
  "kernelspec": {
   "display_name": "Python 3 (ipykernel)",
   "language": "python",
   "name": "python3"
  },
  "language_info": {
   "codemirror_mode": {
    "name": "ipython",
    "version": 3
   },
   "file_extension": ".py",
   "mimetype": "text/x-python",
   "name": "python",
   "nbconvert_exporter": "python",
   "pygments_lexer": "ipython3",
   "version": "3.11.4"
  }
 },
 "nbformat": 4,
 "nbformat_minor": 5
}
