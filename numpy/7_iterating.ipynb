{
 "cells": [
  {
   "cell_type": "code",
   "execution_count": 1,
   "id": "ad1f151d-3e65-4fc1-b08e-d0ac5bf5e84f",
   "metadata": {},
   "outputs": [
    {
     "name": "stdout",
     "output_type": "stream",
     "text": [
      "1\n",
      "2\n",
      "3\n",
      "4\n"
     ]
    }
   ],
   "source": [
    "import numpy as np\n",
    "# 1D\n",
    "arr = np.array([1,2,3,4])\n",
    "for i in arr:\n",
    "    print(i)"
   ]
  },
  {
   "cell_type": "code",
   "execution_count": 2,
   "id": "37a8f858-33c0-4b89-94f8-476b3de3eaaa",
   "metadata": {},
   "outputs": [
    {
     "name": "stdout",
     "output_type": "stream",
     "text": [
      "0\n",
      "1\n",
      "2\n",
      "6\n",
      "3\n",
      "4\n",
      "5\n",
      "7\n"
     ]
    }
   ],
   "source": [
    "# 2D\n",
    "arr1 = np.array([[0,1,2,6],[3,4,5,7]])\n",
    "# for i in arr1:\n",
    "#     for j in i:\n",
    "#         print(j)\n",
    "for i in np.nditer(arr1):\n",
    "    print(i)"
   ]
  },
  {
   "cell_type": "code",
   "execution_count": 3,
   "id": "db6e58b7-6e08-4731-aca5-7bb23b7fd658",
   "metadata": {},
   "outputs": [
    {
     "name": "stdout",
     "output_type": "stream",
     "text": [
      "[[[0 1]\n",
      "  [2 6]]\n",
      "\n",
      " [[3 4]\n",
      "  [5 7]]]\n",
      "0\n",
      "1\n",
      "2\n",
      "6\n",
      "3\n",
      "4\n",
      "5\n",
      "7\n"
     ]
    }
   ],
   "source": [
    "# 3D\n",
    "arr2 = np.reshape(arr1, (2,2,2))\n",
    "print(arr2)\n",
    "# for i in arr2:\n",
    "#     for j in i:\n",
    "#         for k in j:\n",
    "#             print(k)\n",
    "for i in np.nditer(arr1):\n",
    "    print(i)"
   ]
  },
  {
   "cell_type": "code",
   "execution_count": 4,
   "id": "a91f8d0f-e2b2-4eca-a746-de35aeaab321",
   "metadata": {},
   "outputs": [
    {
     "name": "stdout",
     "output_type": "stream",
     "text": [
      "(0,) 1\n",
      "(1,) 2\n",
      "(2,) 3\n",
      "(3,) 4\n"
     ]
    }
   ],
   "source": [
    "# index with iter 1D\n",
    "for ind,i in np.ndenumerate(arr):\n",
    "    print(ind, i)"
   ]
  },
  {
   "cell_type": "code",
   "execution_count": 5,
   "id": "9a83d3e2-befc-4cb4-968a-0068780778aa",
   "metadata": {},
   "outputs": [
    {
     "name": "stdout",
     "output_type": "stream",
     "text": [
      "(0, 0) 0\n",
      "(0, 1) 1\n",
      "(0, 2) 2\n",
      "(0, 3) 6\n",
      "(1, 0) 3\n",
      "(1, 1) 4\n",
      "(1, 2) 5\n",
      "(1, 3) 7\n"
     ]
    }
   ],
   "source": [
    "# index with iter 1D\n",
    "for ind,i in np.ndenumerate(arr1):\n",
    "    print(ind, i)"
   ]
  },
  {
   "cell_type": "code",
   "execution_count": 6,
   "id": "f90f0a53-c971-45a9-8f15-9bd3650afed2",
   "metadata": {},
   "outputs": [
    {
     "name": "stdout",
     "output_type": "stream",
     "text": [
      "(0, 0, 0) 0\n",
      "(0, 0, 1) 1\n",
      "(0, 1, 0) 2\n",
      "(0, 1, 1) 6\n",
      "(1, 0, 0) 3\n",
      "(1, 0, 1) 4\n",
      "(1, 1, 0) 5\n",
      "(1, 1, 1) 7\n"
     ]
    }
   ],
   "source": [
    "# index with iter 1D\n",
    "for ind,i in np.ndenumerate(arr2):\n",
    "    print(ind, i)"
   ]
  }
 ],
 "metadata": {
  "kernelspec": {
   "display_name": "Python 3 (ipykernel)",
   "language": "python",
   "name": "python3"
  },
  "language_info": {
   "codemirror_mode": {
    "name": "ipython",
    "version": 3
   },
   "file_extension": ".py",
   "mimetype": "text/x-python",
   "name": "python",
   "nbconvert_exporter": "python",
   "pygments_lexer": "ipython3",
   "version": "3.11.4"
  }
 },
 "nbformat": 4,
 "nbformat_minor": 5
}
