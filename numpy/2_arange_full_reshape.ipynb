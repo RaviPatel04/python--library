{
 "cells": [
  {
   "cell_type": "code",
   "execution_count": 1,
   "id": "3ea1bfba-d4c2-44ae-b9b1-0949b42a262f",
   "metadata": {},
   "outputs": [
    {
     "name": "stdout",
     "output_type": "stream",
     "text": [
      "[0 1 2 3 4]\n",
      "[1 2 3 4 5]\n",
      "[1. 3. 5. 7.]\n"
     ]
    }
   ],
   "source": [
    "import numpy as np\n",
    "# arange()\n",
    "print(np.arange(5))\n",
    "print(np.arange(1,6))\n",
    "print(np.arange(1,8,2,dtype = float))"
   ]
  },
  {
   "cell_type": "code",
   "execution_count": 2,
   "id": "4b7e43f0-99e0-4034-b089-3341438a67e6",
   "metadata": {},
   "outputs": [
    {
     "name": "stdout",
     "output_type": "stream",
     "text": [
      "[0 0 0 0]\n",
      "[[0 0]\n",
      " [0 0]]\n"
     ]
    }
   ],
   "source": [
    "# zeros()\n",
    "print(np.zeros(4, dtype = int))\n",
    "print(np.zeros((2,2), dtype = int))"
   ]
  },
  {
   "cell_type": "code",
   "execution_count": 3,
   "id": "42cd1b4d-61ee-42e1-852f-6ab6f2a03c5d",
   "metadata": {},
   "outputs": [
    {
     "name": "stdout",
     "output_type": "stream",
     "text": [
      "[1 1 1]\n",
      "[[1 1 1]\n",
      " [1 1 1]\n",
      " [1 1 1]]\n"
     ]
    }
   ],
   "source": [
    "# ones()\n",
    "print(np.ones(3, dtype = int))\n",
    "print(np.ones((3,3), dtype = int))"
   ]
  },
  {
   "cell_type": "code",
   "execution_count": 4,
   "id": "43e6b488-0ec4-4955-8506-97b03c978583",
   "metadata": {},
   "outputs": [
    {
     "name": "stdout",
     "output_type": "stream",
     "text": [
      "[20 20 20 20 20]\n",
      "[[8 8 8]\n",
      " [8 8 8]]\n"
     ]
    }
   ],
   "source": [
    "# full()\n",
    "print(np.full(5,20,dtype = int))\n",
    "print(np.full((2,3),8))"
   ]
  },
  {
   "cell_type": "code",
   "execution_count": 5,
   "id": "a6b5e0ba-5401-42a6-8608-65965f352ad9",
   "metadata": {},
   "outputs": [
    {
     "name": "stdout",
     "output_type": "stream",
     "text": [
      "[[0 1 2]\n",
      " [3 4 5]]\n",
      "[0 1 2 3 4 5]\n"
     ]
    }
   ],
   "source": [
    "# reshape()\n",
    "print(np.arange(6).reshape(2,3))\n",
    "print(np.arange(6).reshape(-1))"
   ]
  }
 ],
 "metadata": {
  "kernelspec": {
   "display_name": "Python 3 (ipykernel)",
   "language": "python",
   "name": "python3"
  },
  "language_info": {
   "codemirror_mode": {
    "name": "ipython",
    "version": 3
   },
   "file_extension": ".py",
   "mimetype": "text/x-python",
   "name": "python",
   "nbconvert_exporter": "python",
   "pygments_lexer": "ipython3",
   "version": "3.11.4"
  }
 },
 "nbformat": 4,
 "nbformat_minor": 5
}
