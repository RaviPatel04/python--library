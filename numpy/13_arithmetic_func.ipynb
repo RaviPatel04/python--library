{
 "cells": [
  {
   "cell_type": "code",
   "execution_count": 1,
   "id": "079ac9ec-fc97-449d-beb5-36250a1c61e6",
   "metadata": {},
   "outputs": [
    {
     "name": "stdout",
     "output_type": "stream",
     "text": [
      "[10 11  9  8]\n",
      "[ 8  5 -1 -4]\n",
      "[   9  512 1024   64]\n"
     ]
    }
   ],
   "source": [
    "import numpy as np\n",
    "# arithmetic operation 1D\n",
    "arr = np.array([9,8,4,2])\n",
    "arr1 = np.array([1,3,5,6])\n",
    "\n",
    "print(arr + arr1)\n",
    "print(arr - arr1)\n",
    "print(arr ** arr1)"
   ]
  },
  {
   "cell_type": "code",
   "execution_count": 2,
   "id": "401fe66c-8266-4b8a-bfbe-f082bfddd939",
   "metadata": {},
   "outputs": [
    {
     "name": "stdout",
     "output_type": "stream",
     "text": [
      "[[ 6  8]\n",
      " [10 12]]\n",
      "[[0.2        0.33333333]\n",
      " [0.42857143 0.5       ]]\n"
     ]
    }
   ],
   "source": [
    "# 2D\n",
    "arr2 = np.array([[1,2],[3,4]])\n",
    "arr3 = np.array([[5,6],[7,8]])\n",
    "print(arr2 + arr3)\n",
    "print(arr2 / arr3)"
   ]
  },
  {
   "cell_type": "code",
   "execution_count": 3,
   "id": "231c92fc-4304-417a-ac34-c7d871bdb723",
   "metadata": {},
   "outputs": [
    {
     "name": "stdout",
     "output_type": "stream",
     "text": [
      "[10 11  9  8]\n",
      "[ 8  5 -1 -4]\n",
      "[0 2 4 2]\n",
      "[9.         2.66666667 0.8        0.33333333]\n"
     ]
    }
   ],
   "source": [
    "# using function\n",
    "print(np.add(arr,arr1))\n",
    "print(np.subtract(arr,arr1))\n",
    "print(np.mod(arr, arr1))\n",
    "print(np.divide(arr,arr1))"
   ]
  }
 ],
 "metadata": {
  "kernelspec": {
   "display_name": "Python 3 (ipykernel)",
   "language": "python",
   "name": "python3"
  },
  "language_info": {
   "codemirror_mode": {
    "name": "ipython",
    "version": 3
   },
   "file_extension": ".py",
   "mimetype": "text/x-python",
   "name": "python",
   "nbconvert_exporter": "python",
   "pygments_lexer": "ipython3",
   "version": "3.11.4"
  }
 },
 "nbformat": 4,
 "nbformat_minor": 5
}
