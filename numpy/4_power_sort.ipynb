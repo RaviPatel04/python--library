{
 "cells": [
  {
   "cell_type": "code",
   "execution_count": 1,
   "id": "f6b5c2c8-8d2e-45f3-83a4-aef1d3233820",
   "metadata": {},
   "outputs": [
    {
     "name": "stdout",
     "output_type": "stream",
     "text": [
      "[ 1  4  9 16]\n",
      "[   1    8   81 1024]\n"
     ]
    }
   ],
   "source": [
    "import numpy as np\n",
    "# power()\n",
    "arr = np.array([1,2,3,4])\n",
    "print(np.power(arr,[2]))\n",
    "print(np.power(arr,[2,3,4,5])) #differnt element diff power"
   ]
  },
  {
   "cell_type": "code",
   "execution_count": 2,
   "id": "74fb15e2-7438-4f9c-af86-5fb6bd47d975",
   "metadata": {},
   "outputs": [
    {
     "name": "stdout",
     "output_type": "stream",
     "text": [
      "[ 4 -2  3]\n",
      "[[0 3 0 2]]\n"
     ]
    }
   ],
   "source": [
    "# difference\n",
    "arr1 = np.array([1,5,3,6])\n",
    "print(np.diff(arr1))\n",
    "print(np.diff((arr,arr1),axis = 0))"
   ]
  },
  {
   "cell_type": "code",
   "execution_count": 3,
   "id": "37527bad-b2ed-4dae-a65b-dbff84e4377a",
   "metadata": {},
   "outputs": [
    {
     "name": "stdout",
     "output_type": "stream",
     "text": [
      "-2\n"
     ]
    }
   ],
   "source": [
    "# cross\n",
    "arr2 = np.array([1,2])\n",
    "arr3 = np.array([3,4])\n",
    "print(np.cross(arr2,arr3))"
   ]
  },
  {
   "cell_type": "code",
   "execution_count": 4,
   "id": "411d7eaa-ae58-4cb3-996b-37facdc5cfb1",
   "metadata": {},
   "outputs": [
    {
     "name": "stdout",
     "output_type": "stream",
     "text": [
      "[1 2 3 6]\n",
      "[[1 2 3 6]\n",
      " [0 4 7 9]]\n",
      "[[0 1 4 3]\n",
      " [2 9 6 7]]\n"
     ]
    }
   ],
   "source": [
    "# sort\n",
    "arr4 = np.array([2,1,6,3])\n",
    "arr5 = np.array([0,9,4,7])\n",
    "print(np.sort(arr4))\n",
    "print(np.sort((arr4,arr5)))\n",
    "print(np.sort((arr4,arr5),axis = 0))"
   ]
  }
 ],
 "metadata": {
  "kernelspec": {
   "display_name": "Python 3 (ipykernel)",
   "language": "python",
   "name": "python3"
  },
  "language_info": {
   "codemirror_mode": {
    "name": "ipython",
    "version": 3
   },
   "file_extension": ".py",
   "mimetype": "text/x-python",
   "name": "python",
   "nbconvert_exporter": "python",
   "pygments_lexer": "ipython3",
   "version": "3.11.4"
  }
 },
 "nbformat": 4,
 "nbformat_minor": 5
}
