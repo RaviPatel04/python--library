{
 "cells": [
  {
   "cell_type": "code",
   "execution_count": 1,
   "id": "ee2e28af-bf1d-4b5f-b451-d14cef84f81b",
   "metadata": {},
   "outputs": [
    {
     "name": "stdout",
     "output_type": "stream",
     "text": [
      "[4 4 4 4 4]\n",
      "[[2 3]\n",
      " [2 3]\n",
      " [2 3]]\n"
     ]
    }
   ],
   "source": [
    "import numpy as np\n",
    "# repeat()\n",
    "print(np.repeat([4],5))\n",
    "print(np.repeat([[2,3]],3,axis = 0))"
   ]
  },
  {
   "cell_type": "code",
   "execution_count": 2,
   "id": "f2767d0f-fa48-4d00-a3eb-9993b8b942f9",
   "metadata": {},
   "outputs": [
    {
     "name": "stdout",
     "output_type": "stream",
     "text": [
      "[1 2 3 4 5 6]\n",
      "[[1 2]\n",
      " [3 4]\n",
      " [5 6]\n",
      " [7 8]]\n",
      "[[1 2 5 6]\n",
      " [3 4 7 8]]\n"
     ]
    }
   ],
   "source": [
    "# concatenate()\n",
    "arr1 = np.array([1,2,3])\n",
    "arr2 = np.array([4,5,6])\n",
    "\n",
    "print(np.concatenate([arr1, arr2]))\n",
    "\n",
    "arr3 = np.array([[1,2],[3,4]])\n",
    "arr4 = np.array([[5,6],[7,8]])\n",
    "print(np.concatenate([arr3, arr4], axis = 0))\n",
    "print(np.concatenate([arr3, arr4], axis = 1))"
   ]
  },
  {
   "cell_type": "code",
   "execution_count": 3,
   "id": "a6256d66-53fa-4f66-883f-7e8546097e0b",
   "metadata": {},
   "outputs": [
    {
     "name": "stdout",
     "output_type": "stream",
     "text": [
      "[[1 2 3]\n",
      " [4 5 6]]\n"
     ]
    }
   ],
   "source": [
    "# vstack\n",
    "print(np.vstack([arr1,arr2]))"
   ]
  },
  {
   "cell_type": "code",
   "execution_count": 4,
   "id": "9e7fc7be-8eb7-4700-87de-d0bee6748aac",
   "metadata": {},
   "outputs": [
    {
     "name": "stdout",
     "output_type": "stream",
     "text": [
      "[[1 2]\n",
      " [3 4]\n",
      " [5 6]\n",
      " [7 8]]\n"
     ]
    }
   ],
   "source": [
    "# r_\n",
    "print(np.r_[arr3,arr4])"
   ]
  },
  {
   "cell_type": "code",
   "execution_count": 5,
   "id": "c003391d-3037-42e6-a931-5d0a27a86e32",
   "metadata": {},
   "outputs": [
    {
     "name": "stdout",
     "output_type": "stream",
     "text": [
      "[[1 2 5 6]\n",
      " [3 4 7 8]]\n"
     ]
    }
   ],
   "source": [
    "# hstack\n",
    "print(np.hstack([arr3,arr4]))"
   ]
  }
 ],
 "metadata": {
  "kernelspec": {
   "display_name": "Python 3 (ipykernel)",
   "language": "python",
   "name": "python3"
  },
  "language_info": {
   "codemirror_mode": {
    "name": "ipython",
    "version": 3
   },
   "file_extension": ".py",
   "mimetype": "text/x-python",
   "name": "python",
   "nbconvert_exporter": "python",
   "pygments_lexer": "ipython3",
   "version": "3.11.4"
  }
 },
 "nbformat": 4,
 "nbformat_minor": 5
}
