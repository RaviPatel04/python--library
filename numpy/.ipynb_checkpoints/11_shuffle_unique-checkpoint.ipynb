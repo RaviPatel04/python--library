{
 "cells": [
  {
   "cell_type": "code",
   "execution_count": 1,
   "id": "cb97804f-4648-4fed-9b9b-1347f3949b86",
   "metadata": {},
   "outputs": [
    {
     "name": "stdout",
     "output_type": "stream",
     "text": [
      "[2 0 1 9 3]\n"
     ]
    }
   ],
   "source": [
    "import numpy as np\n",
    "# shuffle\n",
    "arr = np.array([2,3,1,0,9])\n",
    "np.random.shuffle(arr)\n",
    "print(arr)"
   ]
  },
  {
   "cell_type": "code",
   "execution_count": 2,
   "id": "9a7f18a4-8ea0-4a33-95ff-b406b455d75f",
   "metadata": {},
   "outputs": [
    {
     "name": "stdout",
     "output_type": "stream",
     "text": [
      "[0 1 2 3 4 5 6 7 8 9]\n"
     ]
    }
   ],
   "source": [
    "# unique\n",
    "arr1 = np.array([1,2,1,2,3,4,6,5,7,7,4,8,0,9,9])\n",
    "print(np.unique(arr1))"
   ]
  },
  {
   "cell_type": "code",
   "execution_count": 3,
   "id": "0f17ea5c-9df5-48f4-911b-476328fedb49",
   "metadata": {},
   "outputs": [
    {
     "name": "stdout",
     "output_type": "stream",
     "text": [
      "[[1 2]\n",
      " [3 4]\n",
      " [5 6]]\n"
     ]
    }
   ],
   "source": [
    "# resize\n",
    "arr2 = np.array([1,2,3,4,5,6])\n",
    "print(np.resize(arr2,(3,2)))"
   ]
  },
  {
   "cell_type": "code",
   "execution_count": 4,
   "id": "5c8c08bf-02e3-415a-9fa4-cbccffbaebc1",
   "metadata": {},
   "outputs": [
    {
     "name": "stdout",
     "output_type": "stream",
     "text": [
      "[1 2 3 4]\n"
     ]
    }
   ],
   "source": [
    "# ravel\n",
    "arr3 = np.array([[1,2],[3,4]])\n",
    "print(np.ravel(arr3))"
   ]
  },
  {
   "cell_type": "code",
   "execution_count": null,
   "id": "f2cd1190-6d18-4ecf-901e-bae3e45cc1bd",
   "metadata": {},
   "outputs": [],
   "source": []
  }
 ],
 "metadata": {
  "kernelspec": {
   "display_name": "Python 3 (ipykernel)",
   "language": "python",
   "name": "python3"
  },
  "language_info": {
   "codemirror_mode": {
    "name": "ipython",
    "version": 3
   },
   "file_extension": ".py",
   "mimetype": "text/x-python",
   "name": "python",
   "nbconvert_exporter": "python",
   "pygments_lexer": "ipython3",
   "version": "3.11.4"
  }
 },
 "nbformat": 4,
 "nbformat_minor": 5
}
