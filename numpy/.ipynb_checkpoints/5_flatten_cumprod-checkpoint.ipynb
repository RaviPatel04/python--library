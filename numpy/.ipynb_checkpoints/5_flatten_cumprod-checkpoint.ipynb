{
 "cells": [
  {
   "cell_type": "code",
   "execution_count": 1,
   "id": "a44de42f-86fe-4398-9542-a5cbc828b297",
   "metadata": {},
   "outputs": [
    {
     "name": "stdout",
     "output_type": "stream",
     "text": [
      "[1 3 5 7 2 4 6 8]\n"
     ]
    }
   ],
   "source": [
    "import numpy as np\n",
    "# flatten\n",
    "arr = np.array([[1,3,5,7],[2,4,6,8]])\n",
    "print(arr.flatten())"
   ]
  },
  {
   "cell_type": "code",
   "execution_count": 2,
   "id": "07346fc4-b0a8-437f-8058-be3febb32f92",
   "metadata": {},
   "outputs": [
    {
     "name": "stdout",
     "output_type": "stream",
     "text": [
      "36\n",
      "[ 3  7 11 15]\n",
      "[16 20]\n"
     ]
    }
   ],
   "source": [
    "# sum\n",
    "print(arr.sum())\n",
    "print(arr.sum(axis = 0))\n",
    "print(arr.sum(axis = 1))"
   ]
  },
  {
   "cell_type": "code",
   "execution_count": 3,
   "id": "1fd92369-1ac8-42ed-a583-461847d40fbb",
   "metadata": {},
   "outputs": [
    {
     "name": "stdout",
     "output_type": "stream",
     "text": [
      "nan\n",
      "[ 3.  6. 11.  8.]\n",
      "[ 9. 19.]\n"
     ]
    }
   ],
   "source": [
    "arr1 = np.array([[1,3,5,np.nan],[2,3,6,8]])\n",
    "# nansum\n",
    "print(arr1.sum())\n",
    "print(np.nansum(arr1,axis = 0))\n",
    "print(np.nansum(arr1,axis = 1))"
   ]
  },
  {
   "cell_type": "code",
   "execution_count": 4,
   "id": "35185519-a14f-4210-8ece-4f8229bdb3fb",
   "metadata": {},
   "outputs": [
    {
     "name": "stdout",
     "output_type": "stream",
     "text": [
      "[[ 1  3  5  7]\n",
      " [ 3  7 11 15]]\n",
      "[[ 1  4  9 16]\n",
      " [ 2  6 12 20]]\n"
     ]
    }
   ],
   "source": [
    "# cumsum\n",
    "print(np.cumsum(arr, axis = 0))\n",
    "print(np.cumsum(arr, axis = 1))"
   ]
  },
  {
   "cell_type": "code",
   "execution_count": 5,
   "id": "6c0ce5b0-623b-436c-b40b-b6c84bc1e054",
   "metadata": {},
   "outputs": [
    {
     "name": "stdout",
     "output_type": "stream",
     "text": [
      "[[ 1  3  5  7]\n",
      " [ 2 12 30 56]]\n",
      "[[  1   3  15 105]\n",
      " [  2   8  48 384]]\n"
     ]
    }
   ],
   "source": [
    "# cumprod\n",
    "print(np.cumprod(arr,axis = 0))\n",
    "print(np.cumprod(arr,axis = 1))"
   ]
  }
 ],
 "metadata": {
  "kernelspec": {
   "display_name": "Python 3 (ipykernel)",
   "language": "python",
   "name": "python3"
  },
  "language_info": {
   "codemirror_mode": {
    "name": "ipython",
    "version": 3
   },
   "file_extension": ".py",
   "mimetype": "text/x-python",
   "name": "python",
   "nbconvert_exporter": "python",
   "pygments_lexer": "ipython3",
   "version": "3.11.4"
  }
 },
 "nbformat": 4,
 "nbformat_minor": 5
}
