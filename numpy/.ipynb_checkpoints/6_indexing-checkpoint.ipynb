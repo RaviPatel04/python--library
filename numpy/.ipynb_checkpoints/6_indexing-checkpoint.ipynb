{
 "cells": [
  {
   "cell_type": "code",
   "execution_count": 1,
   "id": "3909c0a3-33be-479a-ab55-03cf08a5c5be",
   "metadata": {},
   "outputs": [
    {
     "name": "stdout",
     "output_type": "stream",
     "text": [
      "23\n"
     ]
    }
   ],
   "source": [
    "import numpy as np\n",
    "# indexing 1D\n",
    "arr = np.array([3,13,23,33,43])\n",
    "print(arr[2])"
   ]
  },
  {
   "cell_type": "code",
   "execution_count": 2,
   "id": "f10bb627-ad8e-4745-a58b-7b805fdbc29e",
   "metadata": {},
   "outputs": [
    {
     "name": "stdout",
     "output_type": "stream",
     "text": [
      "3\n",
      "8\n"
     ]
    }
   ],
   "source": [
    "# 2D\n",
    "arr1 = np.array([[1,2,3,4],[5,6,7,8]])\n",
    "print(arr1[0,2])\n",
    "print(arr1[1,3])"
   ]
  },
  {
   "cell_type": "code",
   "execution_count": 3,
   "id": "6a99583e-9bba-4506-8ff4-2a727499e4c4",
   "metadata": {},
   "outputs": [
    {
     "name": "stdout",
     "output_type": "stream",
     "text": [
      "1\n",
      "7\n"
     ]
    }
   ],
   "source": [
    "# 3D\n",
    "arr2 = np.array([[[0,9],[1,8]],[[2,7],[6,3]]])\n",
    "print(arr2[0,1,0])\n",
    "print(arr2[1,0,1])"
   ]
  }
 ],
 "metadata": {
  "kernelspec": {
   "display_name": "Python 3 (ipykernel)",
   "language": "python",
   "name": "python3"
  },
  "language_info": {
   "codemirror_mode": {
    "name": "ipython",
    "version": 3
   },
   "file_extension": ".py",
   "mimetype": "text/x-python",
   "name": "python",
   "nbconvert_exporter": "python",
   "pygments_lexer": "ipython3",
   "version": "3.11.4"
  }
 },
 "nbformat": 4,
 "nbformat_minor": 5
}
