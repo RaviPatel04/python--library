{
 "cells": [
  {
   "cell_type": "code",
   "execution_count": 1,
   "id": "9e9611ba-7fa4-49d0-aac4-b499885168f1",
   "metadata": {},
   "outputs": [
    {
     "name": "stdout",
     "output_type": "stream",
     "text": [
      "[[12 15]\n",
      " [36 40]]\n"
     ]
    }
   ],
   "source": [
    "import numpy as np\n",
    "# array\n",
    "arr = np.array([[2,3],[4,5]])\n",
    "arr1 = np.array([[6,5],[9,8]])\n",
    "print(np.multiply(arr,arr1))"
   ]
  },
  {
   "cell_type": "code",
   "execution_count": 2,
   "id": "06516dfc-9334-439e-b4a5-42063469ffab",
   "metadata": {},
   "outputs": [
    {
     "name": "stdout",
     "output_type": "stream",
     "text": [
      "[[39 34]\n",
      " [69 60]]\n"
     ]
    }
   ],
   "source": [
    "# matrix\n",
    "mat = np.matrix([[2,3],[4,5]])\n",
    "mat1 = np.matrix([[6,5],[9,8]])\n",
    "print(np.dot(mat,mat1))"
   ]
  },
  {
   "cell_type": "code",
   "execution_count": 3,
   "id": "e9abb2c9-06d3-4d07-999d-28cd01b9bc1f",
   "metadata": {},
   "outputs": [
    {
     "name": "stdout",
     "output_type": "stream",
     "text": [
      "[[1 2]\n",
      " [3 4]\n",
      " [5 6]]\n",
      "transpose\n",
      "[[1 3 5]\n",
      " [2 4 6]]\n"
     ]
    }
   ],
   "source": [
    "# transpose\n",
    "mat3 = np.matrix([[1,2],[3,4],[5,6]])\n",
    "print(mat3)\n",
    "print(\"transpose\")\n",
    "print(np.transpose(mat3))"
   ]
  },
  {
   "cell_type": "code",
   "execution_count": 4,
   "id": "405b5064-484a-4d03-8254-d1d9458d50cf",
   "metadata": {},
   "outputs": [
    {
     "name": "stdout",
     "output_type": "stream",
     "text": [
      "[[1 3 5]\n",
      " [2 4 6]]\n"
     ]
    }
   ],
   "source": [
    "# usinh T\n",
    "print(mat3.T)"
   ]
  },
  {
   "cell_type": "code",
   "execution_count": 5,
   "id": "c7ff0cfc-aa1f-44f2-b08c-93b68c38d0ec",
   "metadata": {},
   "outputs": [
    {
     "name": "stdout",
     "output_type": "stream",
     "text": [
      "[[9 5 3]]\n",
      "[[17]]\n"
     ]
    }
   ],
   "source": [
    "# diagonal\n",
    "mat4 = np.matrix([[9,0,7],[6,5,4],[1,2,3]])\n",
    "print(mat4.diagonal())\n",
    "print(mat4.trace())"
   ]
  },
  {
   "cell_type": "code",
   "execution_count": 6,
   "id": "f1a33e24-1f7f-4cd5-8bc1-ff0475a5037b",
   "metadata": {},
   "outputs": [
    {
     "name": "stdout",
     "output_type": "stream",
     "text": [
      "111.99999999999996\n",
      "3\n"
     ]
    }
   ],
   "source": [
    "# determinate\n",
    "print(np.linalg.det(mat4))\n",
    "print(np.linalg.matrix_rank(mat4))"
   ]
  },
  {
   "cell_type": "code",
   "execution_count": 7,
   "id": "b547a9ff-18bf-40b7-ad1e-51f7a25fec5a",
   "metadata": {},
   "outputs": [
    {
     "name": "stdout",
     "output_type": "stream",
     "text": [
      "[[ 0.0625      0.125      -0.3125    ]\n",
      " [-0.125       0.17857143  0.05357143]\n",
      " [ 0.0625     -0.16071429  0.40178571]]\n"
     ]
    }
   ],
   "source": [
    "# inverse\n",
    "print(np.linalg.inv(mat4))"
   ]
  }
 ],
 "metadata": {
  "kernelspec": {
   "display_name": "Python 3 (ipykernel)",
   "language": "python",
   "name": "python3"
  },
  "language_info": {
   "codemirror_mode": {
    "name": "ipython",
    "version": 3
   },
   "file_extension": ".py",
   "mimetype": "text/x-python",
   "name": "python",
   "nbconvert_exporter": "python",
   "pygments_lexer": "ipython3",
   "version": "3.11.4"
  }
 },
 "nbformat": 4,
 "nbformat_minor": 5
}
