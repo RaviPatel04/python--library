{
 "cells": [
  {
   "cell_type": "code",
   "execution_count": 1,
   "id": "76bf6c2c-73ba-4a07-ac32-a561d366c77e",
   "metadata": {},
   "outputs": [
    {
     "name": "stdout",
     "output_type": "stream",
     "text": [
      "[1 2 5 3 4]\n",
      "[1 5 2 3 4 5]\n"
     ]
    }
   ],
   "source": [
    "import numpy as np\n",
    "# insert\n",
    "# 1D\n",
    "arr = np.array([1,2,3,4])\n",
    "print(np.insert(arr,2,5))\n",
    "print(np.insert(arr,(1,4),5))"
   ]
  },
  {
   "cell_type": "code",
   "execution_count": 2,
   "id": "6f1817b0-5dca-4e36-a6ec-08e7c92d91d8",
   "metadata": {},
   "outputs": [
    {
     "name": "stdout",
     "output_type": "stream",
     "text": [
      "[[1 5 2]\n",
      " [3 5 4]]\n",
      "[[1 2]\n",
      " [5 6]\n",
      " [3 4]]\n"
     ]
    }
   ],
   "source": [
    "# insert 2D\n",
    "arr1 = np.array([[1,2],[3,4]])\n",
    "print(np.insert(arr1,1,5,axis = 1))\n",
    "print(np.insert(arr1,1,[5,6],axis = 0))"
   ]
  },
  {
   "cell_type": "code",
   "execution_count": 3,
   "id": "71a600e8-b266-4e66-bfb4-afaffdc159e6",
   "metadata": {},
   "outputs": [
    {
     "name": "stdout",
     "output_type": "stream",
     "text": [
      "[1 2 4 5]\n"
     ]
    }
   ],
   "source": [
    "# delete\n",
    "# 1D\n",
    "arr2 = np.array([1,2,3,4,5])\n",
    "print(np.delete(arr2,2))"
   ]
  },
  {
   "cell_type": "code",
   "execution_count": 4,
   "id": "59d06d21-ab20-4951-a3d0-85ec6fe815a3",
   "metadata": {},
   "outputs": [
    {
     "name": "stdout",
     "output_type": "stream",
     "text": [
      "[[1 2]]\n",
      "[[1]\n",
      " [3]]\n"
     ]
    }
   ],
   "source": [
    "# delete 2D\n",
    "arr3  = np.array([[1,2],[3,4]])\n",
    "print(np.delete(arr3,1,axis = 0))\n",
    "print(np.delete(arr3,1,axis = 1))"
   ]
  }
 ],
 "metadata": {
  "kernelspec": {
   "display_name": "Python 3 (ipykernel)",
   "language": "python",
   "name": "python3"
  },
  "language_info": {
   "codemirror_mode": {
    "name": "ipython",
    "version": 3
   },
   "file_extension": ".py",
   "mimetype": "text/x-python",
   "name": "python",
   "nbconvert_exporter": "python",
   "pygments_lexer": "ipython3",
   "version": "3.11.4"
  }
 },
 "nbformat": 4,
 "nbformat_minor": 5
}
