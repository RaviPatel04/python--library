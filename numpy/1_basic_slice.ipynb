{
 "cells": [
  {
   "cell_type": "code",
   "execution_count": 1,
   "id": "6e695743-d869-41ac-8a34-42dd335664fb",
   "metadata": {},
   "outputs": [
    {
     "name": "stdout",
     "output_type": "stream",
     "text": [
      "<class 'numpy.ndarray'>\n"
     ]
    },
    {
     "data": {
      "text/plain": [
       "array([1, 2, 3, 4])"
      ]
     },
     "execution_count": 1,
     "metadata": {},
     "output_type": "execute_result"
    }
   ],
   "source": [
    "import numpy as np\n",
    "\n",
    "arr = np.array([1,2,3,4])\n",
    "print(type(arr))\n",
    "arr"
   ]
  },
  {
   "cell_type": "code",
   "execution_count": 2,
   "id": "c9aca6fc-9500-47b5-92f2-245789b07384",
   "metadata": {},
   "outputs": [
    {
     "name": "stdout",
     "output_type": "stream",
     "text": [
      "[1 2]\n",
      "[3 4]\n",
      "[4 3 2 1]\n",
      "[2 4]\n"
     ]
    }
   ],
   "source": [
    "print(arr[:2])\n",
    "print(arr[2:])\n",
    "print(arr[::-1])\n",
    "print(arr[1::2])"
   ]
  },
  {
   "cell_type": "code",
   "execution_count": 3,
   "id": "0a680759-3984-4800-8882-c4a0c82c4ced",
   "metadata": {},
   "outputs": [
    {
     "name": "stdout",
     "output_type": "stream",
     "text": [
      "[[1 2]\n",
      " [5 6]]\n",
      "[2 3]\n",
      "[6 7]\n",
      "(2, 4)\n",
      "int32\n"
     ]
    }
   ],
   "source": [
    "arr1 = np.array([[1,2,3,4], [5,6,7,8]])\n",
    "print(arr1[0:2,0:2])\n",
    "print(arr1[0,1:3])\n",
    "print(arr1[1,1:3])\n",
    "print(np.shape(arr1))\n",
    "print(arr1.dtype)"
   ]
  }
 ],
 "metadata": {
  "kernelspec": {
   "display_name": "Python 3 (ipykernel)",
   "language": "python",
   "name": "python3"
  },
  "language_info": {
   "codemirror_mode": {
    "name": "ipython",
    "version": 3
   },
   "file_extension": ".py",
   "mimetype": "text/x-python",
   "name": "python",
   "nbconvert_exporter": "python",
   "pygments_lexer": "ipython3",
   "version": "3.11.4"
  }
 },
 "nbformat": 4,
 "nbformat_minor": 5
}
