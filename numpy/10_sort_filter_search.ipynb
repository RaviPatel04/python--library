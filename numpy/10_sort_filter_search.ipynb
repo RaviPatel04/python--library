{
 "cells": [
  {
   "cell_type": "code",
   "execution_count": 1,
   "id": "334b3af2-bd26-4567-b964-6004713855ae",
   "metadata": {},
   "outputs": [
    {
     "name": "stdout",
     "output_type": "stream",
     "text": [
      "[6 7 8 9]\n"
     ]
    }
   ],
   "source": [
    "import numpy as np\n",
    "# sort() 1D\n",
    "arr = np.array([9,8,7,6])\n",
    "print(np.sort(arr))"
   ]
  },
  {
   "cell_type": "code",
   "execution_count": 2,
   "id": "41c4f74c-98b6-4759-9712-0e0175648403",
   "metadata": {},
   "outputs": [
    {
     "name": "stdout",
     "output_type": "stream",
     "text": [
      "[[6 7 8 9]\n",
      " [1 2 3 4]]\n",
      "[[4 3 2 1]\n",
      " [9 8 7 6]]\n"
     ]
    }
   ],
   "source": [
    "# 2D\n",
    "arr1 = np.array([[9,8,7,6],[4,3,2,1]])\n",
    "print(np.sort(arr1))\n",
    "print(np.sort(arr1,axis = 0))"
   ]
  },
  {
   "cell_type": "code",
   "execution_count": 3,
   "id": "c9666639-207d-4b46-ab5b-7ad139ce0f7b",
   "metadata": {},
   "outputs": [
    {
     "name": "stdout",
     "output_type": "stream",
     "text": [
      "(array([2, 5], dtype=int64),)\n",
      "(array([3, 4], dtype=int64),)\n"
     ]
    }
   ],
   "source": [
    "# search\n",
    "arr2 = np.array([1,4,6,7,9,6])\n",
    "print(np.where(arr2 == 6))\n",
    "print(np.where(arr2 > 6))"
   ]
  },
  {
   "cell_type": "code",
   "execution_count": 4,
   "id": "7945e597-0d43-44c8-8900-002bb944430e",
   "metadata": {},
   "outputs": [
    {
     "name": "stdout",
     "output_type": "stream",
     "text": [
      "[3 6 0]\n",
      "[6 9]\n"
     ]
    }
   ],
   "source": [
    "# filter\n",
    "arr3 = np.array([3,2,4,6,9,0])\n",
    "filter = [True, False, False, True, False, True]\n",
    "print(arr3[filter])\n",
    "\n",
    "filter1 = arr3>4\n",
    "print(arr3[filter1])"
   ]
  }
 ],
 "metadata": {
  "kernelspec": {
   "display_name": "Python 3 (ipykernel)",
   "language": "python",
   "name": "python3"
  },
  "language_info": {
   "codemirror_mode": {
    "name": "ipython",
    "version": 3
   },
   "file_extension": ".py",
   "mimetype": "text/x-python",
   "name": "python",
   "nbconvert_exporter": "python",
   "pygments_lexer": "ipython3",
   "version": "3.11.4"
  }
 },
 "nbformat": 4,
 "nbformat_minor": 5
}
