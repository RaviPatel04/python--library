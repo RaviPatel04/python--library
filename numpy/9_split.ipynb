{
 "cells": [
  {
   "cell_type": "code",
   "execution_count": 1,
   "id": "29e1c65e-cdcd-4258-8930-437c3eaeffc1",
   "metadata": {},
   "outputs": [
    {
     "name": "stdout",
     "output_type": "stream",
     "text": [
      "[array([1, 2, 3]), array([4, 5, 6])]\n",
      "[array([1, 2]), array([3, 4]), array([5]), array([6])]\n"
     ]
    }
   ],
   "source": [
    "import numpy as np\n",
    "# 1D\n",
    "arr = np.array([1,2,3,4,5,6])\n",
    "print(np.split(arr,2))\n",
    "# print(np.split(arr,4)) get error\n",
    "print(np.array_split(arr,4))"
   ]
  },
  {
   "cell_type": "code",
   "execution_count": 2,
   "id": "6974f6ab-c3c7-41e5-94f9-aa8dbe5a87f6",
   "metadata": {},
   "outputs": [
    {
     "name": "stdout",
     "output_type": "stream",
     "text": [
      "[array([[1, 2, 3]]), array([[4, 5, 6]]), array([], shape=(0, 3), dtype=int32)]\n",
      "[array([[1],\n",
      "       [4]]), array([[2],\n",
      "       [5]]), array([[3],\n",
      "       [6]])]\n"
     ]
    }
   ],
   "source": [
    "# 2D\n",
    "arr1 = np.array([[1,2,3],[4,5,6]])\n",
    "print(np.array_split(arr1,3))\n",
    "print(np.array_split(arr1,3,axis = 1))"
   ]
  }
 ],
 "metadata": {
  "kernelspec": {
   "display_name": "Python 3 (ipykernel)",
   "language": "python",
   "name": "python3"
  },
  "language_info": {
   "codemirror_mode": {
    "name": "ipython",
    "version": 3
   },
   "file_extension": ".py",
   "mimetype": "text/x-python",
   "name": "python",
   "nbconvert_exporter": "python",
   "pygments_lexer": "ipython3",
   "version": "3.11.4"
  }
 },
 "nbformat": 4,
 "nbformat_minor": 5
}
